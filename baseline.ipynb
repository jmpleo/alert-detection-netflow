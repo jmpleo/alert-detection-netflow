{
 "cells": [
  {
   "cell_type": "code",
   "execution_count": 1,
   "id": "44283471-9694-48cd-bce7-b498e1698b79",
   "metadata": {
    "tags": []
   },
   "outputs": [],
   "source": [
    "import os\n",
    "import pandas as pd\n",
    "import numpy as np"
   ]
  },
  {
   "cell_type": "code",
   "execution_count": 2,
   "id": "87be371d-d2aa-4d02-ac33-4ebcf59a5a24",
   "metadata": {
    "tags": []
   },
   "outputs": [
    {
     "data": {
      "text/plain": [
       "(489850, 15)"
      ]
     },
     "execution_count": 2,
     "metadata": {},
     "output_type": "execute_result"
    }
   ],
   "source": [
    "alert_data = pd.read_csv(\n",
    "    \"dataset/alert.csv\",\n",
    "    index_col=0, \n",
    "    encoding=\"utf-8\"\n",
    ")\n",
    "alert_ident = ['src_ip', 'dst_ip', 'src_port', 'dst_port']\n",
    "alert_data.shape"
   ]
  },
  {
   "cell_type": "code",
   "execution_count": 3,
   "id": "d5964030-87c4-4d1a-8a05-e7562adbbc2b",
   "metadata": {},
   "outputs": [],
   "source": [
    "netflow_feats = pd.read_csv(\"dataset/netflow/netflow-feats.csv\").columns\n",
    "netflow_list = os.listdir(\"dataset/netflow/flow\")\n",
    "np.random.shuffle(netflow_list)"
   ]
  },
  {
   "cell_type": "code",
   "execution_count": 4,
   "id": "9be4cf76-4643-4c3e-b493-1199e7f67d9c",
   "metadata": {
    "tags": []
   },
   "outputs": [],
   "source": [
    "selected_features = [\n",
    "    'src_port', \n",
    "    'dst_port',\n",
    "    \n",
    "    'ip_proto_pkt_cnt',\n",
    "    'ip_proto_bytes_cnt',\n",
    "    \n",
    "    'tcp_proto_pkt_cnt',\n",
    "    'tcp_proto_syn_cnt',\n",
    "    'tcp_proto_fin_cnt', \n",
    "    'tcp_proto_psh_cnt',\n",
    "    'tcp_proto_rst_cnt',\n",
    "    \"tcp_proto_synack_cnt\",\n",
    "    \"tcp_proto_ack_cnt\",\n",
    "    \"tcp_proto_bytes_cnt\", \n",
    "    \n",
    "    'udp_proto_pkt_cnt',\n",
    "    'udp_proto_bytes_cnt', \n",
    "    \n",
    "    'icmp_proto_pkt_cnt',\n",
    "    'icmp_proto_echo_reply_cnt',\n",
    "    \"icmp_proto_bytes_cnt\",\n",
    "    \"icmp_proto_echo_request_cnt\",\n",
    "]\n",
    "\n",
    "times_features = [\n",
    "    'first_alert_time_sec',\n",
    "    'last_alert_time_sec',\n",
    "    'first_pkt_time_sec',\n",
    "    'last_pkt_time_sec'\n",
    "]"
   ]
  },
  {
   "cell_type": "code",
   "execution_count": 5,
   "id": "7f6efdd6-f2b4-4979-a144-4a5cadb6f160",
   "metadata": {},
   "outputs": [],
   "source": [
    "balanced_batches = []\n",
    "batch_size = 20 # files\n",
    "batch_start, batch_end = 0, 2 "
   ]
  },
  {
   "cell_type": "code",
   "execution_count": 6,
   "id": "65a6341a-e6eb-4847-a661-1c3297225fba",
   "metadata": {
    "tags": []
   },
   "outputs": [
    {
     "name": "stdout",
     "output_type": "stream",
     "text": [
      "CPU times: user 46.1 s, sys: 10.8 s, total: 56.8 s\n",
      "Wall time: 1min 9s\n"
     ]
    }
   ],
   "source": [
    "%%time\n",
    "for batch_count in range(batch_start, batch_end):\n",
    "    netflow_data = pd.concat(\n",
    "        [\n",
    "            pd.concat(\n",
    "                [\n",
    "                    pd.read_csv(\n",
    "                        f\"dataset/netflow/flow/{filename}\", \n",
    "                        names=netflow_feats,  \n",
    "                        encoding=\"cp1251\"\n",
    "                    ) for filename in netflow_list[s:s+5]\n",
    "                ],\n",
    "                ignore_index=True\n",
    "            ).merge(\n",
    "                alert_data, \n",
    "                how='left', \n",
    "                on=alert_ident,\n",
    "                indicator=True\n",
    "            ) [selected_features + times_features + ['_merge']] \n",
    "            for s in range(20 * batch_count, 20 * (batch_count + 1), 5)\n",
    "        ],\n",
    "        ignore_index=True\n",
    "    )\n",
    "    netflow_data['is_alert'] = netflow_data['_merge'].replace(\n",
    "        {\n",
    "            'both': 1, 'left_only': 0, 'right_only': 0\n",
    "        },\n",
    "    )\n",
    "    netflow_data = netflow_data[\n",
    "        (\n",
    "            (\n",
    "                netflow_data['is_alert'] == 1\n",
    "            ) & (\n",
    "                netflow_data['first_alert_time_sec'] >= netflow_data['first_pkt_time_sec']\n",
    "            ) & (\n",
    "                netflow_data['first_alert_time_sec'] <= netflow_data['last_pkt_time_sec' ]\n",
    "            ) & (\n",
    "                netflow_data['last_alert_time_sec' ] <= netflow_data['last_pkt_time_sec' ]\n",
    "            )\n",
    "        ) | (\n",
    "            netflow_data['is_alert'] == 0\n",
    "        )\n",
    "    ][selected_features + ['is_alert']].drop_duplicates()\n",
    "\n",
    "    # random sampling\n",
    "    alert_index = netflow_data[netflow_data.is_alert == 1].index\n",
    "\n",
    "    balanced_batches.append(\n",
    "        netflow_data.loc[\n",
    "            np.concatenate(\n",
    "                (\n",
    "                    np.random.choice(\n",
    "                        netflow_data[netflow_data.is_alert == 0].index, \n",
    "                        size=alert_index.shape[0] * 49,\n",
    "                        replace=False\n",
    "                    ), \n",
    "                    alert_index\n",
    "                ), \n",
    "                axis=0\n",
    "            )\n",
    "        ]\n",
    "    )"
   ]
  },
  {
   "cell_type": "code",
   "execution_count": 7,
   "id": "71bec214-9d55-4c4b-a277-6f7e2e8da958",
   "metadata": {
    "tags": []
   },
   "outputs": [
    {
     "ename": "NameError",
     "evalue": "name 'features' is not defined",
     "output_type": "error",
     "traceback": [
      "\u001b[0;31m---------------------------------------------------------------------------\u001b[0m",
      "\u001b[0;31mNameError\u001b[0m                                 Traceback (most recent call last)",
      "Cell \u001b[0;32mIn[7], line 8\u001b[0m\n\u001b[1;32m      1\u001b[0m X \u001b[38;5;241m=\u001b[39m pd\u001b[38;5;241m.\u001b[39mconcat(\n\u001b[1;32m      2\u001b[0m     balanced_batches,\n\u001b[1;32m      3\u001b[0m     sort\u001b[38;5;241m=\u001b[39m\u001b[38;5;28;01mFalse\u001b[39;00m,\n\u001b[1;32m      4\u001b[0m     ignore_index\u001b[38;5;241m=\u001b[39m\u001b[38;5;28;01mTrue\u001b[39;00m\n\u001b[1;32m      5\u001b[0m )\u001b[38;5;241m.\u001b[39mdrop_duplicates()\n\u001b[1;32m      7\u001b[0m y \u001b[38;5;241m=\u001b[39m X[\u001b[38;5;124m'\u001b[39m\u001b[38;5;124mis_alert\u001b[39m\u001b[38;5;124m'\u001b[39m]\n\u001b[0;32m----> 8\u001b[0m X \u001b[38;5;241m=\u001b[39m X[\u001b[43mfeatures\u001b[49m]\n\u001b[1;32m      9\u001b[0m X\u001b[38;5;241m.\u001b[39mshape\n",
      "\u001b[0;31mNameError\u001b[0m: name 'features' is not defined"
     ]
    }
   ],
   "source": [
    "X = pd.concat(\n",
    "    balanced_batches,\n",
    "    sort=False,\n",
    "    ignore_index=True\n",
    ").drop_duplicates()\n",
    "\n",
    "y = X['is_alert']\n",
    "X = X[features]\n",
    "X.shape"
   ]
  }
 ],
 "metadata": {
  "kernelspec": {
   "display_name": "Python 3 (ipykernel)",
   "language": "python",
   "name": "python3"
  },
  "language_info": {
   "codemirror_mode": {
    "name": "ipython",
    "version": 3
   },
   "file_extension": ".py",
   "mimetype": "text/x-python",
   "name": "python",
   "nbconvert_exporter": "python",
   "pygments_lexer": "ipython3",
   "version": "3.9.2"
  }
 },
 "nbformat": 4,
 "nbformat_minor": 5
}
