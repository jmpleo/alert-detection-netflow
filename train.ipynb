{
 "cells": [
  {
   "cell_type": "code",
   "execution_count": 1,
   "id": "43901188-400d-4dd3-aae7-2617fba5d5eb",
   "metadata": {},
   "outputs": [],
   "source": [
    "import os\n",
    "\n",
    "import pickle\n",
    "\n",
    "import pandas as pd\n",
    "import numpy as np\n",
    "\n",
    "from imblearn.over_sampling import SMOTE\n",
    "import matplotlib.pyplot as plt\n",
    "\n",
    "from sklearn.model_selection import GridSearchCV\n",
    "from sklearn.ensemble import RandomForestClassifier\n",
    "\n",
    "from xgboost import XGBClassifier\n",
    "\n",
    "from sklearn.metrics import precision_score\n",
    "from sklearn.metrics import recall_score\n",
    "from sklearn.metrics import f1_score\n",
    "from sklearn.metrics import roc_auc_score"
   ]
  },
  {
   "cell_type": "code",
   "execution_count": 2,
   "id": "205974d4-1144-4c10-bb68-e1f7ddf0a067",
   "metadata": {},
   "outputs": [
    {
     "data": {
      "text/plain": [
       "(489850, 15)"
      ]
     },
     "execution_count": 2,
     "metadata": {},
     "output_type": "execute_result"
    }
   ],
   "source": [
    "alert_data = pd.read_csv(\n",
    "    \"dataset/alert.csv\", \n",
    "    index_col=0, \n",
    "    encoding=\"utf-8\"\n",
    ")\n",
    "alert_data.shape"
   ]
  },
  {
   "cell_type": "code",
   "execution_count": 3,
   "id": "24c2acca-c1a8-4efe-b7c8-99704ffc0f20",
   "metadata": {},
   "outputs": [],
   "source": [
    "netflow_fields = pd.read_csv(\"dataset/netflow/netflow-feats.csv\").columns\n",
    "\n",
    "flows_list = os.listdir(\"dataset/netflow/flow/\")\n",
    "np.random.shuffle(flows_list)\n",
    "\n",
    "sample_size = 1000\n",
    "sample_list = flows_list[:sample_size]\n",
    "test_list = flows_list[sample_size:]"
   ]
  },
  {
   "cell_type": "code",
   "execution_count": 4,
   "id": "968edd35-7ff3-4ff7-8462-531ef130075a",
   "metadata": {},
   "outputs": [],
   "source": [
    "ident_features = [\n",
    "    'src_ip',\n",
    "    'dst_ip',\n",
    "    'src_port', \n",
    "    'dst_port'\n",
    "]\n",
    "port_features = [\n",
    "    'src_port', \n",
    "    'dst_port'\n",
    "]\n",
    "ip_features = [\n",
    "    'ip_proto_x', \n",
    "    'ip_proto_pkt_cnt',\n",
    "    'ip_proto_bytes_cnt',\n",
    "]\n",
    "udp_features = [\n",
    "    'udp_proto_pkt_cnt',\n",
    "    'udp_proto_bytes_cnt', \n",
    "]\n",
    "tcp_features = [\n",
    "    'tcp_proto_pkt_cnt',\n",
    "    'tcp_proto_bytes_cnt', \n",
    "    'tcp_proto_syn_cnt', \n",
    "    'tcp_proto_fin_cnt',\n",
    "    'tcp_proto_ack_cnt', \n",
    "    'tcp_proto_psh_cnt',\n",
    "    'tcp_proto_rst_cnt',\n",
    "    'tcp_proto_synack_cnt',\n",
    "]\n",
    "icmp_features = [\n",
    "    'icmp_proto_pkt_cnt',\n",
    "    'icmp_proto_bytes_cnt',\n",
    "    'icmp_proto_echo_request_cnt',\n",
    "    'icmp_proto_echo_reply_cnt'\n",
    "]\n",
    "http_features = [\n",
    "    'http_proto_get_pkt_cnt', \n",
    "    'http_proto_post_pkt_cnt',\n",
    "    'http_proto_http_pkt_cnt',\n",
    "    'http_proto_200_pkt_cnt',\n",
    "    'http_proto_301_pkt_cnt', \n",
    "    'http_proto_302_pkt_cnt',\n",
    "    'http_proto_304_pkt_cnt', \n",
    "    'http_proto_400_pkt_cnt',\n",
    "    'http_proto_401_pkt_cnt', \n",
    "    'http_proto_403_pkt_cnt',\n",
    "    'http_proto_404_pkt_cnt', \n",
    "    'http_proto_429_pkt_cnt',\n",
    "    'http_proto_500_pkt_cnt', \n",
    "    'http_proto_503_pkt_cnt',\n",
    "    'http_proto_511_pkt_cnt'\n",
    "]\n",
    "dns_features = [\n",
    "    'dns_query_cnt', \n",
    "    'dns_response_cnt'\n",
    "]\n",
    "pkt_features = (\n",
    "      port_features\n",
    "    + ip_features \n",
    "    + tcp_features \n",
    "    + udp_features\n",
    "    + icmp_features \n",
    "    + http_features \n",
    "    + dns_features\n",
    ")"
   ]
  },
  {
   "cell_type": "code",
   "execution_count": 5,
   "id": "f0d8934c-263a-409b-b56d-6ee5d53387c3",
   "metadata": {},
   "outputs": [],
   "source": [
    "feats = (\n",
    "      port_features\n",
    "    + ip_features \n",
    "    + tcp_features \n",
    "    + udp_features\n",
    "    + icmp_features \n",
    "    + dns_features\n",
    ")\n",
    "timestamp_feats = [\n",
    "    'first_alert_time_sec',\n",
    "    'last_alert_time_sec',\n",
    "    'first_pkt_time_sec',\n",
    "    'last_pkt_time_sec'\n",
    "]"
   ]
  },
  {
   "cell_type": "code",
   "execution_count": 6,
   "id": "6e9e9fe7-b1a3-4a14-869c-5810a9433362",
   "metadata": {},
   "outputs": [],
   "source": [
    "disbalance = 10"
   ]
  },
  {
   "cell_type": "code",
   "execution_count": 7,
   "id": "24e525c8-38dc-4b8a-b240-631b0eb1f4b8",
   "metadata": {},
   "outputs": [
    {
     "name": "stdout",
     "output_type": "stream",
     "text": [
      "batch n. 19 initialization..."
     ]
    }
   ],
   "source": [
    "balanced_batches = []\n",
    "batch_size = 50\n",
    "print(\"start...\", end='')\n",
    "for batch_count in range(len(sample_list) // batch_size):\n",
    "    print(f\"\\rbatch n. {batch_count} initialization...\", end='')\n",
    "    batch = pd.concat(\n",
    "        [\n",
    "            pd.concat(\n",
    "                [\n",
    "                    pd.read_csv(\n",
    "                        f\"dataset/netflow/flow/{filename}\", \n",
    "                        names=netflow_fields,  \n",
    "                        encoding=\"cp1251\"\n",
    "                    ) for filename in sample_list[s:s+5]\n",
    "                ],\n",
    "                ignore_index=True\n",
    "            ).merge(\n",
    "                alert_data, \n",
    "                how='left', \n",
    "                on=ident_features,\n",
    "                indicator=True\n",
    "            ) [feats + timestamp_feats + ['_merge']] \n",
    "            for s in range(batch_size * (batch_count)   ,\n",
    "                           batch_size * (batch_count + 1), 5)\n",
    "        ],\n",
    "        ignore_index=True\n",
    "    )\n",
    "    batch['is_alert'] = batch['_merge'].replace(\n",
    "        {\n",
    "            'both': 1, 'left_only': 0, 'right_only': 0\n",
    "        },\n",
    "    )\n",
    "    batch = batch[\n",
    "        (\n",
    "            (\n",
    "                batch.is_alert == 1\n",
    "            ) & (\n",
    "                batch.first_alert_time_sec >= batch.first_pkt_time_sec\n",
    "            ) & (\n",
    "                batch.first_alert_time_sec <= batch.last_pkt_time_sec\n",
    "            ) & (\n",
    "                batch.last_alert_time_sec <= batch.last_pkt_time_sec\n",
    "            )\n",
    "        ) | (\n",
    "            batch.is_alert == 0\n",
    "        )\n",
    "    ][feats + ['is_alert']]\n",
    "    \n",
    "    alert_index = batch[batch.is_alert == 1].index\n",
    "\n",
    "    balanced_batch_index = np.concatenate(\n",
    "        [\n",
    "            np.random.choice(\n",
    "                batch[batch.is_alert == 0].index, \n",
    "                size=alert_index.shape[0] * disbalance,\n",
    "                replace=False\n",
    "            ), \n",
    "            alert_index\n",
    "        ], \n",
    "        axis=0\n",
    "    )\n",
    "    balanced_batches.append(batch.loc[balanced_batch_index])"
   ]
  },
  {
   "cell_type": "code",
   "execution_count": 8,
   "id": "2fca00e7-de6f-4b5a-b95a-3cd1c4ccb604",
   "metadata": {},
   "outputs": [
    {
     "data": {
      "text/plain": [
       "(2526823, 21)"
      ]
     },
     "execution_count": 8,
     "metadata": {},
     "output_type": "execute_result"
    }
   ],
   "source": [
    "X = pd.concat(\n",
    "    balanced_batches,\n",
    "    sort=False,\n",
    "    ignore_index=True\n",
    ").drop_duplicates()\n",
    "\n",
    "y = X['is_alert']\n",
    "X = X[feats]\n",
    "X.shape"
   ]
  },
  {
   "cell_type": "code",
   "execution_count": 9,
   "id": "cdccb0b7-be31-4d6c-9916-77b4714242be",
   "metadata": {},
   "outputs": [],
   "source": [
    "xgb = XGBClassifier(\n",
    "    n_estimators=300,\n",
    "    max_depth=None,\n",
    "    learning_rate=0.1,\n",
    "    subsample=0.8,\n",
    "    n_jobs=-1,\n",
    "    #verbosity=2\n",
    ")"
   ]
  },
  {
   "cell_type": "code",
   "execution_count": 10,
   "id": "7245bb42-679d-4133-8020-4de20f7f5061",
   "metadata": {
    "tags": []
   },
   "outputs": [
    {
     "data": {
      "text/html": [
       "<style>#sk-container-id-1 {color: black;}#sk-container-id-1 pre{padding: 0;}#sk-container-id-1 div.sk-toggleable {background-color: white;}#sk-container-id-1 label.sk-toggleable__label {cursor: pointer;display: block;width: 100%;margin-bottom: 0;padding: 0.3em;box-sizing: border-box;text-align: center;}#sk-container-id-1 label.sk-toggleable__label-arrow:before {content: \"▸\";float: left;margin-right: 0.25em;color: #696969;}#sk-container-id-1 label.sk-toggleable__label-arrow:hover:before {color: black;}#sk-container-id-1 div.sk-estimator:hover label.sk-toggleable__label-arrow:before {color: black;}#sk-container-id-1 div.sk-toggleable__content {max-height: 0;max-width: 0;overflow: hidden;text-align: left;background-color: #f0f8ff;}#sk-container-id-1 div.sk-toggleable__content pre {margin: 0.2em;color: black;border-radius: 0.25em;background-color: #f0f8ff;}#sk-container-id-1 input.sk-toggleable__control:checked~div.sk-toggleable__content {max-height: 200px;max-width: 100%;overflow: auto;}#sk-container-id-1 input.sk-toggleable__control:checked~label.sk-toggleable__label-arrow:before {content: \"▾\";}#sk-container-id-1 div.sk-estimator input.sk-toggleable__control:checked~label.sk-toggleable__label {background-color: #d4ebff;}#sk-container-id-1 div.sk-label input.sk-toggleable__control:checked~label.sk-toggleable__label {background-color: #d4ebff;}#sk-container-id-1 input.sk-hidden--visually {border: 0;clip: rect(1px 1px 1px 1px);clip: rect(1px, 1px, 1px, 1px);height: 1px;margin: -1px;overflow: hidden;padding: 0;position: absolute;width: 1px;}#sk-container-id-1 div.sk-estimator {font-family: monospace;background-color: #f0f8ff;border: 1px dotted black;border-radius: 0.25em;box-sizing: border-box;margin-bottom: 0.5em;}#sk-container-id-1 div.sk-estimator:hover {background-color: #d4ebff;}#sk-container-id-1 div.sk-parallel-item::after {content: \"\";width: 100%;border-bottom: 1px solid gray;flex-grow: 1;}#sk-container-id-1 div.sk-label:hover label.sk-toggleable__label {background-color: #d4ebff;}#sk-container-id-1 div.sk-serial::before {content: \"\";position: absolute;border-left: 1px solid gray;box-sizing: border-box;top: 0;bottom: 0;left: 50%;z-index: 0;}#sk-container-id-1 div.sk-serial {display: flex;flex-direction: column;align-items: center;background-color: white;padding-right: 0.2em;padding-left: 0.2em;position: relative;}#sk-container-id-1 div.sk-item {position: relative;z-index: 1;}#sk-container-id-1 div.sk-parallel {display: flex;align-items: stretch;justify-content: center;background-color: white;position: relative;}#sk-container-id-1 div.sk-item::before, #sk-container-id-1 div.sk-parallel-item::before {content: \"\";position: absolute;border-left: 1px solid gray;box-sizing: border-box;top: 0;bottom: 0;left: 50%;z-index: -1;}#sk-container-id-1 div.sk-parallel-item {display: flex;flex-direction: column;z-index: 1;position: relative;background-color: white;}#sk-container-id-1 div.sk-parallel-item:first-child::after {align-self: flex-end;width: 50%;}#sk-container-id-1 div.sk-parallel-item:last-child::after {align-self: flex-start;width: 50%;}#sk-container-id-1 div.sk-parallel-item:only-child::after {width: 0;}#sk-container-id-1 div.sk-dashed-wrapped {border: 1px dashed gray;margin: 0 0.4em 0.5em 0.4em;box-sizing: border-box;padding-bottom: 0.4em;background-color: white;}#sk-container-id-1 div.sk-label label {font-family: monospace;font-weight: bold;display: inline-block;line-height: 1.2em;}#sk-container-id-1 div.sk-label-container {text-align: center;}#sk-container-id-1 div.sk-container {/* jupyter's `normalize.less` sets `[hidden] { display: none; }` but bootstrap.min.css set `[hidden] { display: none !important; }` so we also need the `!important` here to be able to override the default hidden behavior on the sphinx rendered scikit-learn.org. See: https://github.com/scikit-learn/scikit-learn/issues/21755 */display: inline-block !important;position: relative;}#sk-container-id-1 div.sk-text-repr-fallback {display: none;}</style><div id=\"sk-container-id-1\" class=\"sk-top-container\"><div class=\"sk-text-repr-fallback\"><pre>XGBClassifier(base_score=None, booster=None, callbacks=None,\n",
       "              colsample_bylevel=None, colsample_bynode=None,\n",
       "              colsample_bytree=None, early_stopping_rounds=None,\n",
       "              enable_categorical=False, eval_metric=None, feature_types=None,\n",
       "              gamma=None, gpu_id=None, grow_policy=None, importance_type=None,\n",
       "              interaction_constraints=None, learning_rate=0.1, max_bin=None,\n",
       "              max_cat_threshold=None, max_cat_to_onehot=None,\n",
       "              max_delta_step=None, max_depth=None, max_leaves=None,\n",
       "              min_child_weight=None, missing=nan, monotone_constraints=None,\n",
       "              n_estimators=300, n_jobs=-1, num_parallel_tree=None,\n",
       "              predictor=None, random_state=None, ...)</pre><b>In a Jupyter environment, please rerun this cell to show the HTML representation or trust the notebook. <br />On GitHub, the HTML representation is unable to render, please try loading this page with nbviewer.org.</b></div><div class=\"sk-container\" hidden><div class=\"sk-item\"><div class=\"sk-estimator sk-toggleable\"><input class=\"sk-toggleable__control sk-hidden--visually\" id=\"sk-estimator-id-1\" type=\"checkbox\" checked><label for=\"sk-estimator-id-1\" class=\"sk-toggleable__label sk-toggleable__label-arrow\">XGBClassifier</label><div class=\"sk-toggleable__content\"><pre>XGBClassifier(base_score=None, booster=None, callbacks=None,\n",
       "              colsample_bylevel=None, colsample_bynode=None,\n",
       "              colsample_bytree=None, early_stopping_rounds=None,\n",
       "              enable_categorical=False, eval_metric=None, feature_types=None,\n",
       "              gamma=None, gpu_id=None, grow_policy=None, importance_type=None,\n",
       "              interaction_constraints=None, learning_rate=0.1, max_bin=None,\n",
       "              max_cat_threshold=None, max_cat_to_onehot=None,\n",
       "              max_delta_step=None, max_depth=None, max_leaves=None,\n",
       "              min_child_weight=None, missing=nan, monotone_constraints=None,\n",
       "              n_estimators=300, n_jobs=-1, num_parallel_tree=None,\n",
       "              predictor=None, random_state=None, ...)</pre></div></div></div></div></div>"
      ],
      "text/plain": [
       "XGBClassifier(base_score=None, booster=None, callbacks=None,\n",
       "              colsample_bylevel=None, colsample_bynode=None,\n",
       "              colsample_bytree=None, early_stopping_rounds=None,\n",
       "              enable_categorical=False, eval_metric=None, feature_types=None,\n",
       "              gamma=None, gpu_id=None, grow_policy=None, importance_type=None,\n",
       "              interaction_constraints=None, learning_rate=0.1, max_bin=None,\n",
       "              max_cat_threshold=None, max_cat_to_onehot=None,\n",
       "              max_delta_step=None, max_depth=None, max_leaves=None,\n",
       "              min_child_weight=None, missing=nan, monotone_constraints=None,\n",
       "              n_estimators=300, n_jobs=-1, num_parallel_tree=None,\n",
       "              predictor=None, random_state=None, ...)"
      ]
     },
     "execution_count": 10,
     "metadata": {},
     "output_type": "execute_result"
    }
   ],
   "source": [
    "xgb.fit(X, y)"
   ]
  },
  {
   "cell_type": "code",
   "execution_count": 11,
   "id": "08394db9-5abd-48eb-8915-998771e5de9a",
   "metadata": {},
   "outputs": [],
   "source": [
    "balanced_batches = []\n",
    "batch_size = 50\n",
    "for batch_count in range(len(test_list) // batch_size):\n",
    "    batch = pd.concat(\n",
    "        [\n",
    "            pd.concat(\n",
    "                [\n",
    "                    pd.read_csv(\n",
    "                        f\"dataset/netflow/flow/{filename}\", \n",
    "                        names=netflow_fields,  \n",
    "                        encoding=\"cp1251\"\n",
    "                    ) for filename in test_list[s:s+5]\n",
    "                ],\n",
    "                ignore_index=True\n",
    "            ).merge(\n",
    "                alert_data, \n",
    "                how='left', \n",
    "                on=ident_features,\n",
    "                indicator=True\n",
    "            ) [feats + timestamp_feats + ['_merge']] \n",
    "            for s in range(batch_size * (batch_count)   ,\n",
    "                           batch_size * (batch_count + 1), 5)\n",
    "        ],\n",
    "        ignore_index=True\n",
    "    )\n",
    "    batch['is_alert'] = batch['_merge'].replace(\n",
    "        {\n",
    "            'both': 1, 'left_only': 0, 'right_only': 0\n",
    "        },\n",
    "    )\n",
    "    batch = batch[\n",
    "        (\n",
    "            (\n",
    "                batch.is_alert == 1\n",
    "            ) & (\n",
    "                batch.first_alert_time_sec >= batch.first_pkt_time_sec\n",
    "            ) & (\n",
    "                batch.first_alert_time_sec <= batch.last_pkt_time_sec\n",
    "            ) & (\n",
    "                batch.last_alert_time_sec <= batch.last_pkt_time_sec\n",
    "            )\n",
    "        ) | (\n",
    "            batch.is_alert == 0\n",
    "        )\n",
    "    ][feats + ['is_alert']]\n",
    "    \n",
    "    alert_index = batch[batch.is_alert == 1].index\n",
    "    balanced_batch_index = np.concatenate(\n",
    "        [\n",
    "            np.random.choice(\n",
    "                batch[batch.is_alert == 0].index, \n",
    "                size=alert_index.shape[0] * disbalance,\n",
    "                replace=False\n",
    "            ), \n",
    "            alert_index\n",
    "        ], \n",
    "        axis=0\n",
    "    )\n",
    "    balanced_batches.append(batch.loc[balanced_batch_index])"
   ]
  },
  {
   "cell_type": "code",
   "execution_count": 12,
   "id": "1541a0b7-307d-4800-9f1f-4b5be7de7425",
   "metadata": {},
   "outputs": [],
   "source": [
    "X_test = pd.concat(\n",
    "    balanced_batches,\n",
    "    sort=False,\n",
    "    ignore_index=True\n",
    ")\n",
    "y_test = X_test.is_alert\n",
    "X_test = X_test[feats]"
   ]
  },
  {
   "cell_type": "code",
   "execution_count": 13,
   "id": "61ec43f6-a391-41d2-a029-737c24a69d6e",
   "metadata": {},
   "outputs": [],
   "source": [
    "y_pred = xgb.predict(X_test)"
   ]
  },
  {
   "cell_type": "code",
   "execution_count": 15,
   "id": "927952f8-732e-4a29-a4ba-2ce86f95da2a",
   "metadata": {},
   "outputs": [
    {
     "data": {
      "image/png": "[encoded data removed]",
      "text/plain": [
       "<Figure size 640x480 with 1 Axes>"
      ]
     },
     "metadata": {},
     "output_type": "display_data"
    }
   ],
   "source": [
    "import matplotlib.pyplot as plt\n",
    "from sklearn.metrics import precision_recall_curve\n",
    "\n",
    "y_true = y_test\n",
    "y_scores = xgb.predict_proba(X_test)[:,1]\n",
    "\n",
    "precision, recall, thresholds = precision_recall_curve(y_true, y_scores)\n",
    "\n",
    "plt.plot(recall, precision)\n",
    "\n",
    "plt.title('Precision-Recall Curve')\n",
    "plt.xlabel('Recall')\n",
    "plt.ylabel('Precision')\n",
    "\n",
    "plt.show()"
   ]
  },
  {
   "cell_type": "code",
   "execution_count": null,
   "id": "a3c2e027-635a-4ff3-b8e1-3902fe07d943",
   "metadata": {},
   "outputs": [],
   "source": []
  }
 ],
 "metadata": {
  "kernelspec": {
   "display_name": "Python 3 (ipykernel)",
   "language": "python",
   "name": "python3"
  },
  "language_info": {
   "codemirror_mode": {
    "name": "ipython",
    "version": 3
   },
   "file_extension": ".py",
   "mimetype": "text/x-python",
   "name": "python",
   "nbconvert_exporter": "python",
   "pygments_lexer": "ipython3",
   "version": "3.9.2"
  }
 },
 "nbformat": 4,
 "nbformat_minor": 5
}
